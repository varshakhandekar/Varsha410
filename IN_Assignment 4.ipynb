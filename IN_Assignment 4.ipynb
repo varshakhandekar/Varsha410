{
 "cells": [
  {
   "cell_type": "code",
   "execution_count": 1,
   "id": "fc2c8460",
   "metadata": {},
   "outputs": [
    {
     "name": "stdout",
     "output_type": "stream",
     "text": [
      "Enter Sides of triangle12 34 45\n",
      "Area of traingle is  172.93472685694573\n"
     ]
    }
   ],
   "source": [
    "\"\"\"\" Write a Python Program(with class concepts) to find the area of the triangle using the below \n",
    "formula.\n",
    "area = (s*(s-a)*(s-b)*(s-c)) ** 0.5\n",
    "Function to take the length of the sides of triangle from user should be defined in the parent \n",
    "class and function to calculate the area should be defined in subclass.\"\"\"\n",
    "\n",
    "class triangle:\n",
    "    def input(self,a,b,c):\n",
    "        self.a=a\n",
    "        self.b=b\n",
    "        self.c=c\n",
    "    \n",
    "\n",
    "class area(triangle):\n",
    "   \n",
    "    def calarea(self):\n",
    "        s=(self.a+self.b+self.c)/3\n",
    "        area=(s*(s-self.a)*(s-self.b)*(s-self.c)) ** 0.5\n",
    "        return area\n",
    "a,b,c=map(int,input('Enter Sides of triangle').split(' '))    \n",
    "a1=area()\n",
    "a1.input(a,b,c)\n",
    "at=a1.calarea()\n",
    "print('Area of traingle is ',at)\n",
    "\n",
    "        "
   ]
  },
  {
   "cell_type": "code",
   "execution_count": 2,
   "id": "44652268",
   "metadata": {},
   "outputs": [
    {
     "name": "stdout",
     "output_type": "stream",
     "text": [
      "Enter N wordssdfd gg tttt sss aaaaa\n",
      "Enter length 2\n",
      "['sdfd', 'tttt', 'sss', 'aaaaa']\n"
     ]
    }
   ],
   "source": [
    "\"\"\"Write a function filter_long_words() that takes a list of words and an integer n and returns \n",
    "the list of words that are longer than n.\"\"\"\n",
    "\n",
    "lst = input(\"Enter N words\").split(' ')\n",
    "n= int(input(\"Enter length \"))\n",
    "\n",
    "def filterstring(self,st):\n",
    "    str=[]\n",
    "    for s1 in lst:\n",
    "        \n",
    "        if(len(s1)>n):\n",
    "            str.append(s1)\n",
    "    return str\n",
    "    \n",
    "fstr=filterstring(lambda x:x,lst)\n",
    "print(fstr)\n",
    "\n",
    "        \n",
    "        \n",
    "\n"
   ]
  },
  {
   "cell_type": "code",
   "execution_count": 3,
   "id": "501d9674",
   "metadata": {},
   "outputs": [
    {
     "name": "stdout",
     "output_type": "stream",
     "text": [
      "Enter N wordsuuu bbbb nnnnn mmm\n",
      "[3, 4, 5, 3]\n"
     ]
    }
   ],
   "source": [
    "\"\"\"2.1 Write a Python program using function concept that maps list of words into a list of integers \n",
    "representing the lengths of the corresponding words.\"\"\"\n",
    "lst = input(\"Enter N words\").split(' ')\n",
    "def maplen(lst):\n",
    "    l=[]\n",
    "    for s1 in lst:\n",
    "        l.append(len(s1))\n",
    "    return l\n",
    "        \n",
    "       \n",
    "    \n",
    "fstr=maplen(lst)\n",
    "print(fstr)"
   ]
  },
  {
   "cell_type": "code",
   "execution_count": 9,
   "id": "1596ab5e",
   "metadata": {},
   "outputs": [
    {
     "name": "stdout",
     "output_type": "stream",
     "text": [
      "sd\n",
      "Enter string of length 1\n",
      "i\n",
      "True\n"
     ]
    }
   ],
   "source": [
    "\"\"\"\" Write a Python function which takes a character (i.e. a string of length 1) and returns True if \n",
    "it is a vowel, False otherwise.\"\"\"\n",
    "vowel=['a','e','i','o','u']\n",
    "\n",
    "l=[]\n",
    "def inputstring():\n",
    "    for i in range(0,10):\n",
    "        try:\n",
    "            c=input()\n",
    "            if c in vowel:\n",
    "                return True\n",
    "            if (len(c)>1):\n",
    "                raise Exception('Length of string should be 1',e)\n",
    "                continue\n",
    "            else:\n",
    "                l.append(c)\n",
    "                \n",
    "        except:\n",
    "            print('Enter string of length 1')\n",
    "    return l\n",
    "    \n",
    "                \n",
    "str1=inputstring()      \n",
    "print(str1)\n",
    "\n",
    "    \n"
   ]
  },
  {
   "cell_type": "code",
   "execution_count": null,
   "id": "e56842f6",
   "metadata": {},
   "outputs": [],
   "source": []
  }
 ],
 "metadata": {
  "kernelspec": {
   "display_name": "Python 3 (ipykernel)",
   "language": "python",
   "name": "python3"
  },
  "language_info": {
   "codemirror_mode": {
    "name": "ipython",
    "version": 3
   },
   "file_extension": ".py",
   "mimetype": "text/x-python",
   "name": "python",
   "nbconvert_exporter": "python",
   "pygments_lexer": "ipython3",
   "version": "3.9.6"
  }
 },
 "nbformat": 4,
 "nbformat_minor": 5
}

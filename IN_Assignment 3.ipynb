{
 "cells": [
  {
   "cell_type": "code",
   "execution_count": 18,
   "id": "ea1b150d",
   "metadata": {},
   "outputs": [
    {
     "name": "stdout",
     "output_type": "stream",
     "text": [
      "15\n"
     ]
    }
   ],
   "source": [
    "\n",
    "#1.1 Write a Python Program to implement your own myreduce() function which works exactly like Python's built-in function reduce()\n",
    "l=[1,2,3,4,5]\n",
    "def myreduce(op,l):\n",
    "    t=l[0]  \n",
    "    for i in range(1,len(l)):\n",
    "        t=add(t,l[i])\n",
    "    return t\n",
    "def add(a,b):\n",
    "    return a+b\n",
    "    \n",
    "\n",
    "t=myreduce(add,l)\n",
    "print(t)"
   ]
  },
  {
   "cell_type": "code",
   "execution_count": 5,
   "id": "e7218182",
   "metadata": {},
   "outputs": [
    {
     "name": "stdout",
     "output_type": "stream",
     "text": [
      "21\n",
      "1\n",
      "2\n",
      "3\n",
      "4\n",
      "5\n",
      "6\n"
     ]
    }
   ],
   "source": [
    "#1 Write a Python Program to implement your own myreduce() function which works exactly like Python's built-in function reduce()\n",
    "#Using iter function\n",
    "l=[1,2,3,4,5]\n",
    "def myreduce(op,l):\n",
    "l=[1,2,3,4,5,6]\n",
    "def myreduce(fun,l):\n",
    "    it=iter(l)\n",
    "    val=next(it)\n",
    "    for x in it:\n",
    "        val=fun(x,val)\n",
    "    print(val)\n",
    "myreduce(lambda x,y:x+y,l)"
   ]
  },
  {
   "cell_type": "code",
   "execution_count": 16,
   "id": "a6fe8841",
   "metadata": {},
   "outputs": [
    {
     "name": "stdout",
     "output_type": "stream",
     "text": [
      "s\n",
      "a\n",
      "m\n",
      "p\n",
      "l\n",
      "e\n",
      "sample\n"
     ]
    }
   ],
   "source": [
    "l='sample'\n",
    "def myreduce(fun,l):\n",
    "    it=iter(l)\n",
    "    val=next(it)\n",
    "    print(val,end='\\n')\n",
    "    for x in it:\n",
    "        print(x)\n",
    "        val=fun(x,val)\n",
    "     \n",
    "    print(val)\n",
    "myreduce(lambda x,y:y+x,l)\n"
   ]
  },
  {
   "cell_type": "code",
   "execution_count": 20,
   "id": "979daf69",
   "metadata": {},
   "outputs": [
    {
     "name": "stdout",
     "output_type": "stream",
     "text": [
      "21\n"
     ]
    }
   ],
   "source": [
    "#without using iter function\n",
    "l=[1,2,3,4,5,6]\n",
    "def myreduce(fun,l):\n",
    "    val=l[0]\n",
    "    for i in range(1,len(l)):\n",
    "        x=l[i]\n",
    "        val=fun(x,val)\n",
    "    print(val)\n",
    "myreduce(lambda x,y:x+y,l)"
   ]
  },
  {
   "cell_type": "code",
   "execution_count": 22,
   "id": "2b97974e",
   "metadata": {},
   "outputs": [
    {
     "name": "stdout",
     "output_type": "stream",
     "text": [
      "[2, 4, 6]\n"
     ]
    }
   ],
   "source": [
    "#2 Write a Python program to implement your own myfilter() function which works exactly \n",
    "l=[1,2,3,4,5,6]\n",
    "def myfilter(fun,l):\n",
    "    lst=[]\n",
    "    for i in range(1,len(l)):\n",
    "        x=l[i]\n",
    "        val=fun(x)\n",
    "        if val==True:\n",
    "            lst.append(x)\n",
    "    return lst\n",
    "    \n",
    "    #print(val)\n",
    "filtereddata=myfilter(lambda x: x%2==0,l)\n",
    "print(filtereddata)"
   ]
  },
  {
   "cell_type": "code",
   "execution_count": 3,
   "id": "e32a677d",
   "metadata": {},
   "outputs": [
    {
     "name": "stdout",
     "output_type": "stream",
     "text": [
      "['x', 'xx', 'xxx', 'y', 'yy', 'yyy', 'z', 'zz', 'zzz']\n",
      "['x', 'y', 'z', 'xx', 'yy', 'zz', 'xxx', 'yyy', 'zzz']\n"
     ]
    }
   ],
   "source": [
    "#2. Implement List comprehensions to produce the following lists. \n",
    "#Write List comprehensions to produce the following Lists\n",
    "#['x', 'xx', 'xxx', 'xxxx', 'y', 'yy', 'yyy', 'yyyy', 'z', 'zz', 'zzz', 'zzzz']\n",
    "\n",
    "l=['x','y','z']\n",
    "l1=[x*j for x in l for j in range(1,len(l)+1)]\n",
    "print(l1)\n",
    "\n",
    "#['x', 'y', 'z', 'xx', 'yy', 'zz', 'xxx', 'yyy', 'zzz', 'xxxx', 'yyyy', 'zzzz']\n",
    "\n",
    "l2=[x*i for i in range(1,len(l)+1) for x in (l)]\n",
    "print(l2)"
   ]
  },
  {
   "cell_type": "code",
   "execution_count": 23,
   "id": "1dbd6c0d",
   "metadata": {},
   "outputs": [
    {
     "data": {
      "text/plain": [
       "[(1, 1), (2, 1), (3, 1), (1, 2), (2, 2), (3, 2), (1, 3), (2, 3), (3, 3)]"
      ]
     },
     "execution_count": 23,
     "metadata": {},
     "output_type": "execute_result"
    }
   ],
   "source": [
    "#[(1, 1), (2, 1), (3, 1), (1, 2), (2, 2), (3, 2), (1, 3), (2, 3), (3, 3)]\n",
    "\n",
    "l4=[(j,i) for i in range(1,4) for j in range(1,4)]\n",
    "l4"
   ]
  },
  {
   "cell_type": "code",
   "execution_count": null,
   "id": "cb3464ef",
   "metadata": {},
   "outputs": [],
   "source": []
  }
 ],
 "metadata": {
  "kernelspec": {
   "display_name": "Python 3 (ipykernel)",
   "language": "python",
   "name": "python3"
  },
  "language_info": {
   "codemirror_mode": {
    "name": "ipython",
    "version": 3
   },
   "file_extension": ".py",
   "mimetype": "text/x-python",
   "name": "python",
   "nbconvert_exporter": "python",
   "pygments_lexer": "ipython3",
   "version": "3.9.6"
  }
 },
 "nbformat": 4,
 "nbformat_minor": 5
}
